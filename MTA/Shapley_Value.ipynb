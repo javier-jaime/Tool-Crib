{
  "cells": [
    {
      "cell_type": "markdown",
      "metadata": {
        "id": "view-in-github",
        "colab_type": "text"
      },
      "source": [
        "<a href=\"https://colab.research.google.com/github/javier-jaime/Tool-Crib/blob/master/MTA/Shapley_Value.ipynb\" target=\"_parent\"><img src=\"https://colab.research.google.com/assets/colab-badge.svg\" alt=\"Open In Colab\"/></a>"
      ]
    },
    {
      "cell_type": "markdown",
      "metadata": {
        "id": "b-IZRlPjloTQ"
      },
      "source": [
        "## MTA Model with Shapley Value\n",
        "\n",
        "Using the sample marketing dataset from [Kaggle](https://www.kaggle.com/datasets/kavitabhagwani/marketing-campaign), we used four variables:\n",
        "- user_id\n",
        "- date_served\n",
        "- marketing_channel\n",
        "-converted\n",
        "\n",
        "Adapted from: https://bernard-mlab.com/"
      ]
    },
    {
      "cell_type": "code",
      "execution_count": 17,
      "metadata": {
        "id": "IyLm6ED3loTT"
      },
      "outputs": [],
      "source": [
        "# import packages necessary libraries\n",
        "import itertools\n",
        "from pathlib import Path\n",
        "from collections import defaultdict\n",
        "from itertools import combinations, permutations\n",
        "\n",
        "import numpy as np\n",
        "import pandas as pd\n",
        "import matplotlib.pyplot as plt\n",
        "import seaborn as sns\n",
        "\n",
        "from google.colab import drive\n",
        "from google.colab import files\n",
        "\n",
        "import warnings\n",
        "warnings.simplefilter(action='ignore', category=FutureWarning)"
      ]
    },
    {
      "cell_type": "code",
      "execution_count": 18,
      "metadata": {
        "colab": {
          "base_uri": "https://localhost:8080/"
        },
        "id": "OaK6KTvAloTU",
        "outputId": "a993582a-d04d-4885-98de-a41e02f81dc4"
      },
      "outputs": [
        {
          "output_type": "stream",
          "name": "stdout",
          "text": [
            "Drive already mounted at /content/drive; to attempt to forcibly remount, call drive.mount(\"/content/drive\", force_remount=True).\n"
          ]
        }
      ],
      "source": [
        "# Mount Google Drive\n",
        "\n",
        "drive.mount('/content/drive')"
      ]
    },
    {
      "cell_type": "code",
      "source": [
        "# Read dataset from CSV in Google Drive to Pandas Data Frame\n",
        "data_raw = pd.read_csv('drive/MyDrive/Colab_Notebooks/Datasets/marketing.csv')\n",
        "print(data_raw.shape)"
      ],
      "metadata": {
        "colab": {
          "base_uri": "https://localhost:8080/"
        },
        "id": "VBTaIJUZmoDB",
        "outputId": "633074be-77b0-466d-82f5-b11d622d443b"
      },
      "execution_count": 19,
      "outputs": [
        {
          "output_type": "stream",
          "name": "stdout",
          "text": [
            "(10037, 12)\n"
          ]
        }
      ]
    },
    {
      "cell_type": "code",
      "execution_count": 20,
      "metadata": {
        "tags": [],
        "colab": {
          "base_uri": "https://localhost:8080/"
        },
        "id": "2K1ZGqTCloTV",
        "outputId": "a674c5a7-fa10-4eb6-b03e-e455295f9550"
      },
      "outputs": [
        {
          "output_type": "stream",
          "name": "stdout",
          "text": [
            "Data dimension: (10037, 4)\n",
            "Data dimension after dropping null values: (10021, 4)\n"
          ]
        }
      ],
      "source": [
        "# Extract the required columns\n",
        "columns = ['user_id', 'date_served', 'marketing_channel', 'converted']\n",
        "data = data_raw[columns].copy()\n",
        "print(f\"Data dimension: {data.shape}\")\n",
        "\n",
        "# Drop null values\n",
        "data.dropna(axis=0, inplace=True)\n",
        "print(f\"Data dimension after dropping null values: {data.shape}\")\n",
        "\n",
        "# Recast conversion as binary\n",
        "data['converted'] = data['converted'].astype('int')\n",
        "\n",
        "# Convert date_served to datetime\n",
        "data['date_served'] = pd.to_datetime(data['date_served'], format='%m/%d/%y', errors='coerce')"
      ]
    },
    {
      "cell_type": "code",
      "execution_count": 21,
      "metadata": {
        "tags": [],
        "id": "bJJ6ssrvloTW"
      },
      "outputs": [],
      "source": [
        "# Create a channel mix conversion table in 3 levels\n",
        "data_lvl1 = data[['user_id', 'marketing_channel', 'converted']].sort_values(by=['user_id', 'marketing_channel'])\n",
        "data_lvl2 = data_lvl1.groupby(['user_id'], as_index=False).agg({'marketing_channel': lambda x: ','.join(map(str,x.unique())),                                                               'converted':max})\n",
        "data_lvl2.rename(columns={'marketing_channel':'marketing_channel_subset'}, inplace=True)\n",
        "data_lvl3 = data_lvl2.groupby(['marketing_channel_subset'], as_index=False).agg(sum)"
      ]
    },
    {
      "cell_type": "code",
      "execution_count": 22,
      "metadata": {
        "id": "eqIk6EabloTW"
      },
      "outputs": [],
      "source": [
        "# Helper formulas for shapley values\n",
        "\n",
        "def power_set(List):\n",
        "    PS = [list(j) for i in range(len(List)) for j in itertools.combinations(List, i+1)]\n",
        "    return PS\n",
        "\n",
        "def factorial(n):\n",
        "    if n == 0:\n",
        "        return 1\n",
        "    else:\n",
        "        return n * factorial(n-1)\n",
        "\n",
        "def v_function(A,C_values):\n",
        "    '''\n",
        "    This function computes the worth of each coalition.\n",
        "    inputs:\n",
        "            - A : a coalition of channels.\n",
        "            - C_values : A dictionnary containing the number of conversions that each subset of channels has yielded.\n",
        "    '''\n",
        "    subsets_of_A = subsets(A)\n",
        "    worth_of_A=0\n",
        "    for subset in subsets_of_A:\n",
        "        if subset in C_values:\n",
        "            worth_of_A += C_values[subset]\n",
        "    return worth_of_A\n",
        "\n",
        "def subsets(s):\n",
        "    '''\n",
        "    This function returns all the possible subsets of a set of channels.\n",
        "    input :\n",
        "            - s: a set of channels.\n",
        "    '''\n",
        "    if len(s)==1:\n",
        "        return s\n",
        "    else:\n",
        "        sub_channels=[]\n",
        "        for i in range(1,len(s)+1):\n",
        "            sub_channels.extend(map(list,itertools.combinations(s, i)))\n",
        "    return list(map(\",\".join,map(sorted,sub_channels)))\n",
        "\n",
        "def calculate_shapley(df, channel_name, conv_name):\n",
        "    '''\n",
        "    This function returns the shapley values\n",
        "            - df: A dataframe with the two columns: ['channel_subset', 'count'].\n",
        "            The channel_subset column is the channel(s) associated with the conversion and the count is the sum of the conversions.\n",
        "            - channel_name: A string that is the name of the channel column\n",
        "            - conv_name: A string that is the name of the column with conversions\n",
        "            **Make sure that that each value in channel_subset is in alphabetical order. Email,PPC and PPC,Email are the same\n",
        "            in regards to this analysis and should be combined under Email,PPC.\n",
        "\n",
        "    '''\n",
        "    # Cast the subset into a dict, and get unique channels\n",
        "    c_values = df.set_index(channel_name).to_dict()[conv_name]\n",
        "    df['channels'] = df[channel_name].apply(lambda x: x if len(x.split(\",\")) == 1 else np.nan)\n",
        "    channels = list(df['channels'].dropna().unique())\n",
        "\n",
        "    v_values = {}\n",
        "    for A in power_set(channels): #generate all possible channel combination\n",
        "        v_values[','.join(sorted(A))] = v_function(A,c_values)\n",
        "    n=len(channels) #no. of channels\n",
        "    shapley_values = defaultdict(int)\n",
        "\n",
        "    for channel in channels:\n",
        "        for A in v_values.keys():\n",
        "            if channel not in A.split(\",\"):\n",
        "                cardinal_A=len(A.split(\",\"))\n",
        "                A_with_channel = A.split(\",\")\n",
        "                A_with_channel.append(channel)\n",
        "                A_with_channel=\",\".join(sorted(A_with_channel))\n",
        "                weight = (factorial(cardinal_A)*factorial(n-cardinal_A-1)/factorial(n)) # Weight = |S|!(n-|S|-1)!/n!\n",
        "                contrib = (v_values[A_with_channel]-v_values[A]) # Marginal contribution = v(S U {i})-v(S)\n",
        "                shapley_values[channel] += weight * contrib\n",
        "        # Add the term corresponding to the empty set\n",
        "        shapley_values[channel]+= v_values[channel]/n\n",
        "\n",
        "    return shapley_values"
      ]
    },
    {
      "cell_type": "code",
      "execution_count": 23,
      "metadata": {
        "tags": [],
        "id": "2zjjA-F4loTX"
      },
      "outputs": [],
      "source": [
        "# Calculate the Shapley value of the channel\n",
        "shapley_dict = calculate_shapley(data_lvl3, 'marketing_channel_subset', 'converted')\n",
        "shapley_result = pd.DataFrame(list(shapley_dict.items()), columns=['channel', 'shapley_value'])"
      ]
    },
    {
      "cell_type": "code",
      "execution_count": 24,
      "metadata": {
        "tags": [],
        "colab": {
          "base_uri": "https://localhost:8080/",
          "height": 507
        },
        "id": "cVQmogRwloTX",
        "outputId": "f3b8a6c0-1c40-40cf-b7b7-51588527c5dd"
      },
      "outputs": [
        {
          "output_type": "display_data",
          "data": {
            "text/plain": [
              "<Figure size 1500x800 with 1 Axes>"
            ],
            "image/png": "[encoded data removed]"
          },
          "metadata": {}
        }
      ],
      "source": [
        "# Visualize the results\n",
        "plt.subplots(figsize=(15,8))\n",
        "s = sns.barplot(x='channel', y='shapley_value', data=shapley_result)\n",
        "sns.despine(top=True, right=True)\n",
        "for idx, row in shapley_result.iterrows():\n",
        "    s.text(row.name, row.shapley_value +5, round(row.shapley_value,1), ha='center', color='darkslategray', fontweight='semibold')\n",
        "plt.title(\"Advertising Channel Shapley Value\",\n",
        "          fontdict={'fontfamily': 'serif', 'fontsize': 15, 'fontweight': 'semibold', 'color':'#444444'},\n",
        "          loc='center', pad=10)\n",
        "plt.show()"
      ]
    }
  ],
  "metadata": {
    "kernelspec": {
      "display_name": "Python 3",
      "language": "python",
      "name": "python3"
    },
    "language_info": {
      "codemirror_mode": {
        "name": "ipython",
        "version": 3
      },
      "file_extension": ".py",
      "mimetype": "text/x-python",
      "name": "python",
      "nbconvert_exporter": "python",
      "pygments_lexer": "ipython3",
      "version": "3.7.3-final"
    },
    "colab": {
      "provenance": [],
      "include_colab_link": true
    }
  },
  "nbformat": 4,
  "nbformat_minor": 0
}